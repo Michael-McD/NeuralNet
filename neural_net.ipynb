{
    "cells": [
        {
            "cell_type": "code",
            "execution_count": 11,
            "source": [
                "import numpy as np\r\n",
                "import scipy.special as ss\r\n",
                "import matplotlib.pyplot as pl\r\n",
                "%matplotlib inline\r\n",
                "\r\n",
                "class neuralNetworks:\r\n",
                "\r\n",
                "    def __init__(self, inputNodes, hiddenNodes, outputNodes, learningRate):\r\n",
                "        self.inodes = inputNodes\r\n",
                "        self.hnodes = hiddenNodes\r\n",
                "        self.onodes = outputNodes\r\n",
                "        \r\n",
                "        self.lr = learningRate\r\n",
                "\r\n",
                "        self.wih = np.random.normal(0.0, pow(self.inodes, -0.5), (self.hnodes, self.inodes))\r\n",
                "        self.who = np.random.normal(0.0, pow(self.hnodes, -0.5), (self.onodes, self.hnodes))\r\n",
                "\r\n",
                "        # create the sigmoid activation/squashing function using the lambda notation.\r\n",
                "        self.activation_function = lambda x: ss.expit(x)\r\n",
                "        self.inverse_activation_function = lambda x: ss.logit(x)\r\n",
                "\r\n",
                "        self.scale_image = lambda array:  (np.asfarray(array[1:]) / 255.0 * 0.99) + 0.01\r\n",
                "\r\n",
                "    def train(self, input_list, target_list):\r\n",
                "        inputs = np.array(input_list, ndmin=2).T\r\n",
                "        targets = np.array(target_list, ndmin=2).T\r\n",
                "        \r\n",
                "        hidden_inputs = np.dot(self.wih, inputs)\r\n",
                "        hidden_outputs = self.activation_function(hidden_inputs)\r\n",
                "\r\n",
                "        final_inputs = np.dot(self.who, hidden_outputs)\r\n",
                "        final_outputs = self.activation_function(final_inputs)\r\n",
                "\r\n",
                "        # Pythons magic matrix maths!\r\n",
                "        output_errors = targets - final_outputs\r\n",
                "\r\n",
                "        # Propogate the error back accoss contribuiting nodes (by their relative wieghts)\r\n",
                "        hidden_errors = np.dot(self.who.T, output_errors)\r\n",
                "\r\n",
                "        self.who += self.lr * np.dot((output_errors * final_outputs * (1.0 - final_outputs)), np.transpose(hidden_outputs))\r\n",
                "        self.wih += self.lr * np.dot((hidden_errors * hidden_outputs * (1.0 - hidden_outputs)), np.transpose(inputs))\r\n",
                "         \r\n",
                "\r\n",
                "    def query(self, inputs_list):\r\n",
                "        inputs = np.array(inputs_list, ndmin=2).T\r\n",
                "        \r\n",
                "        # the matrix dot product i.e. the result of applying the input values \r\n",
                "        # accross the wieghted connections into the hidden nodes.\r\n",
                "        hidden_inputs = np.dot(self.wih, inputs)\r\n",
                "        hidden_outputs = self.activation_function(hidden_inputs)\r\n",
                "        \r\n",
                "\r\n",
                "        final_inputs = np.dot(self.who, hidden_outputs)\r\n",
                "        final_outputs = self.activation_function(final_inputs)\r\n",
                "\r\n",
                "        return final_outputs\r\n",
                "\r\n",
                "    def backquery(self, targets_list):\r\n",
                "        # transpose the targets list to a vertical array\r\n",
                "        final_outputs = np.array(targets_list, ndmin=2).T\r\n",
                "        \r\n",
                "        # calculate the signal into the final output layer\r\n",
                "        final_inputs = self.inverse_activation_function(final_outputs)\r\n",
                "\r\n",
                "        # calculate the signal out of the hidden layer\r\n",
                "        hidden_outputs = np.dot(self.who.T, final_inputs)\r\n",
                "        # scale them back to 0.01 to .99\r\n",
                "        hidden_outputs -= np.min(hidden_outputs)\r\n",
                "        hidden_outputs /= np.max(hidden_outputs)\r\n",
                "        hidden_outputs *= 0.98\r\n",
                "        hidden_outputs += 0.01\r\n",
                "        \r\n",
                "        # calculate the signal into the hidden layer\r\n",
                "        hidden_inputs = self.inverse_activation_function(hidden_outputs)\r\n",
                "        \r\n",
                "        # calculate the signal out of the input layer\r\n",
                "        inputs = np.dot(self.wih.T, hidden_inputs)\r\n",
                "        # scale them back to 0.01 to .99\r\n",
                "        inputs -= np.min(inputs)\r\n",
                "        inputs /= np.max(inputs)\r\n",
                "        inputs *= 0.98\r\n",
                "        inputs += 0.01\r\n",
                "        \r\n",
                "        return inputs\r\n"
            ],
            "outputs": [],
            "metadata": {}
        },
        {
            "cell_type": "markdown",
            "source": [
                "Lets create a small neural network and train it using a MNist training data set."
            ],
            "metadata": {}
        },
        {
            "cell_type": "code",
            "execution_count": 12,
            "source": [
                "i_nodes, h_nodes, o_nodes, l_rate = 784, 100, 10, 0.05\r\n",
                "nn = neuralNetworks(i_nodes, h_nodes, o_nodes, l_rate)\r\n",
                "epoc = 6\r\n",
                "\r\n",
                "with open(\"mnist_data/mnist_train.csv\") as train_file:\r\n",
                "    train_list = train_file.readlines()\r\n",
                "\r\n",
                "for _ in range(epoc):\r\n",
                "    for records in train_list:\r\n",
                "        all_values = records.split(\",\")\r\n",
                "        # scale the inputs from 0-255 to (+ 1.0) to (- 0.99)\r\n",
                "        scaled_inputs = nn.scale_image(all_values)\r\n",
                "        targets = np.zeros(o_nodes) + 0.01\r\n",
                "        targets[int(all_values[0])] = 0.99\r\n",
                "        nn.train(scaled_inputs, targets)\r\n"
            ],
            "outputs": [],
            "metadata": {}
        },
        {
            "cell_type": "markdown",
            "source": [
                "Test the network against the training data."
            ],
            "metadata": {}
        },
        {
            "cell_type": "code",
            "execution_count": 13,
            "source": [
                "with open(\"mnist_data/mnist_test.csv\") as mnist_file:\r\n",
                "    test_data = mnist_file.readlines()\r\n",
                "    score_card = []\r\n",
                "\r\n",
                "    for test in test_data:\r\n",
                "        test_input = test.split(\",\")\r\n",
                "        image_array = nn.scale_image(test_input)\r\n",
                "\r\n",
                "\r\n",
                "        predictions = nn.query(image_array)\r\n",
                "\r\n",
                "        predicted_number = str(np.argmax(predictions))\r\n",
                "        actual_number = (test_input[0])\r\n",
                "        # print(f\"Predicted : {predicted_number}, actual {actual_number}\")\r\n",
                "        score_card.append(predicted_number == actual_number)\r\n",
                "        percent = (sum(score_card) / len(score_card) )\r\n",
                "    \r\n",
                "    print(percent)\r\n",
                "\r\n",
                "    #pl.imshow(image_array.reshape(28,28), cmap='Greys', interpolation='none')"
            ],
            "outputs": [
                {
                    "output_type": "stream",
                    "name": "stdout",
                    "text": [
                        "0.9683\n"
                    ]
                }
            ],
            "metadata": {}
        },
        {
            "cell_type": "markdown",
            "source": [
                "Run the network backwards to see what the network sees a number as."
            ],
            "metadata": {}
        },
        {
            "cell_type": "code",
            "execution_count": 24,
            "source": [
                "import matplotlib.pyplot as pl\r\n",
                "%matplotlib inline\r\n",
                "\r\n",
                "# label to test\r\n",
                "label = 4\r\n",
                "# create the output signals for this label\r\n",
                "targets = np.zeros(o_nodes) + 0.01\r\n",
                "# all_values[0] is the target label for this record\r\n",
                "targets[label] = 0.99\r\n",
                "print(targets)\r\n",
                "\r\n",
                "# get image data\r\n",
                "image_data = nn.backquery(targets)\r\n",
                "\r\n",
                "# plot image data\r\n",
                "pl.imshow(image_data.reshape(28,28), cmap='Greys', interpolation='None')\r\n"
            ],
            "outputs": [
                {
                    "output_type": "stream",
                    "name": "stdout",
                    "text": [
                        "[0.01 0.01 0.01 0.01 0.99 0.01 0.01 0.01 0.01 0.01]\n"
                    ]
                },
                {
                    "output_type": "execute_result",
                    "data": {
                        "text/plain": [
                            "<matplotlib.image.AxesImage at 0x1a5cbf39340>"
                        ]
                    },
                    "metadata": {},
                    "execution_count": 24
                },
                {
                    "output_type": "display_data",
                    "data": {
                        "image/png": "[encoded data removed]",
                        "text/plain": [
                            "<Figure size 432x288 with 1 Axes>"
                        ]
                    },
                    "metadata": {
                        "needs_background": "light"
                    }
                }
            ],
            "metadata": {}
        },
        {
            "cell_type": "code",
            "execution_count": null,
            "source": [
                "# print out a number from an image array.\r\n",
                "import matplotlib.pyplot as pl\r\n",
                "%matplotlib inline\r\n",
                "\r\n",
                "with open(\"mnist_data/mnist_test.csv\") as mnist_file:\r\n",
                "    test_data = mnist_file.readlines()\r\n",
                "\r\n",
                "    image_data = test_data[0].split(\",\")\r\n",
                "    image_array = nn.scale_image(image_data)\r\n",
                "\r\n",
                "    pl.imshow(image_array.reshape(28,28), cmap='Greys', interpolation='None')"
            ],
            "outputs": [],
            "metadata": {}
        }
    ],
    "metadata": {
        "orig_nbformat": 4,
        "language_info": {
            "name": "python",
            "version": "3.8.8",
            "mimetype": "text/x-python",
            "codemirror_mode": {
                "name": "ipython",
                "version": 3
            },
            "pygments_lexer": "ipython3",
            "nbconvert_exporter": "python",
            "file_extension": ".py"
        },
        "kernelspec": {
            "name": "python3",
            "display_name": "Python 3.8.8 64-bit ('base': conda)"
        },
        "interpreter": {
            "hash": "c3b2f12e01ad50ddd651e8ce9c424571e432c2161a1664e425e233b87efaeb4c"
        }
    },
    "nbformat": 4,
    "nbformat_minor": 2
}