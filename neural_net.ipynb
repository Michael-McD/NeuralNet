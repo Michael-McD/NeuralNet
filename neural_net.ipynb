{
    "cells": [
        {
            "cell_type": "code",
            "execution_count": 1,
            "metadata": {},
            "outputs": [],
            "source": [
                "import numpy as np\n",
                "import scipy.special as ss\n",
                "import matplotlib.pyplot as pl\n",
                "%matplotlib inline\n",
                "\n",
                "class neuralNetworks:\n",
                "\n",
                "    def __init__(self, inputNodes, hiddenNodes, outputNodes, learningRate):\n",
                "        self.inodes = inputNodes\n",
                "        self.hnodes = hiddenNodes\n",
                "        self.onodes = outputNodes\n",
                "        \n",
                "        self.lr = learningRate\n",
                "\n",
                "        self.wih = np.random.normal(0.0, pow(self.inodes, -0.5), (self.hnodes, self.inodes))\n",
                "        self.who = np.random.normal(0.0, pow(self.hnodes, -0.5), (self.onodes, self.hnodes))\n",
                "\n",
                "        # create the sigmoid activation/squashing function using the lambda notation.\n",
                "        self.activation_function = lambda x: ss.expit(x)\n",
                "        self.inverse_activation_function = lambda x: ss.logit(x)\n",
                "\n",
                "        self.scale_image = lambda array:  (np.asfarray(array[1:]) / 255.0 * 0.99) + 0.01\n",
                "\n",
                "    def train(self, input_list, target_list):\n",
                "        inputs = np.array(input_list, ndmin=2).T\n",
                "        targets = np.array(target_list, ndmin=2).T\n",
                "        \n",
                "        hidden_inputs = np.dot(self.wih, inputs)\n",
                "        hidden_outputs = self.activation_function(hidden_inputs)\n",
                "\n",
                "        final_inputs = np.dot(self.who, hidden_outputs)\n",
                "        final_outputs = self.activation_function(final_inputs)\n",
                "\n",
                "        # Pythons magic matrix maths!\n",
                "        output_errors = targets - final_outputs\n",
                "\n",
                "        # Propogate the error back accoss contribuiting nodes (by their relative wieghts)\n",
                "        hidden_errors = np.dot(self.who.T, output_errors)\n",
                "\n",
                "        self.who += self.lr * np.dot((output_errors * final_outputs * (1.0 - final_outputs)), np.transpose(hidden_outputs))\n",
                "        self.wih += self.lr * np.dot((hidden_errors * hidden_outputs * (1.0 - hidden_outputs)), np.transpose(inputs))\n",
                "         \n",
                "\n",
                "    def query(self, inputs_list):\n",
                "        inputs = np.array(inputs_list, ndmin=2).T\n",
                "        \n",
                "        # the matrix dot product i.e. the result of applying the input values \n",
                "        # accross the wieghted connections into the hidden nodes.\n",
                "        hidden_inputs = np.dot(self.wih, inputs)\n",
                "        hidden_outputs = self.activation_function(hidden_inputs)\n",
                "        \n",
                "\n",
                "        final_inputs = np.dot(self.who, hidden_outputs)\n",
                "        final_outputs = self.activation_function(final_inputs)\n",
                "\n",
                "        return final_outputs\n",
                "\n",
                "    def backquery(self, targets_list):\n",
                "        # transpose the targets list to a vertical array\n",
                "        final_outputs = np.array(targets_list, ndmin=2).T\n",
                "        \n",
                "        # calculate the signal into the final output layer\n",
                "        final_inputs = self.inverse_activation_function(final_outputs)\n",
                "\n",
                "        # calculate the signal out of the hidden layer\n",
                "        hidden_outputs = np.dot(self.who.T, final_inputs)\n",
                "        # scale them back to 0.01 to .99\n",
                "        hidden_outputs -= np.min(hidden_outputs)\n",
                "        hidden_outputs /= np.max(hidden_outputs)\n",
                "        hidden_outputs *= 0.98\n",
                "        hidden_outputs += 0.01\n",
                "        \n",
                "        # calculate the signal into the hidden layer\n",
                "        hidden_inputs = self.inverse_activation_function(hidden_outputs)\n",
                "        \n",
                "        # calculate the signal out of the input layer\n",
                "        inputs = np.dot(self.wih.T, hidden_inputs)\n",
                "        # scale them back to 0.01 to .99\n",
                "        inputs -= np.min(inputs)\n",
                "        inputs /= np.max(inputs)\n",
                "        inputs *= 0.98\n",
                "        inputs += 0.01\n",
                "        \n",
                "        return inputs\n"
            ]
        },
        {
            "cell_type": "markdown",
            "metadata": {},
            "source": [
                "Lets create a neural network and train it using a MNist training data set.\n",
                "\n",
                "The larger datasets (mnist_train.csv and mnist_test.csv) can be found here [here](https://github.com/pjreddie/mnist-csv-png)."
            ]
        },
        {
            "cell_type": "code",
            "execution_count": 3,
            "metadata": {},
            "outputs": [],
            "source": [
                "i_nodes, h_nodes, o_nodes, l_rate = 784, 100, 10, 0.05\n",
                "nn = neuralNetworks(i_nodes, h_nodes, o_nodes, l_rate)\n",
                "epoc = 6\n",
                "\n",
                "with open(\"mnist_data/mnist_train.csv\") as train_file:\n",
                "    train_list = train_file.readlines()\n",
                "\n",
                "for _ in range(epoc):\n",
                "    for records in train_list:\n",
                "        all_values = records.split(\",\")\n",
                "        # scale the inputs from 0-255 to (+ 1.0) to (- 0.99)\n",
                "        scaled_inputs = nn.scale_image(all_values)\n",
                "        targets = np.zeros(o_nodes) + 0.01\n",
                "        targets[int(all_values[0])] = 0.99\n",
                "        nn.train(scaled_inputs, targets)\n"
            ]
        },
        {
            "cell_type": "markdown",
            "metadata": {},
            "source": [
                "Test the network against the training data."
            ]
        },
        {
            "cell_type": "code",
            "execution_count": 4,
            "metadata": {},
            "outputs": [
                {
                    "name": "stdout",
                    "output_type": "stream",
                    "text": [
                        "0.9679\n"
                    ]
                }
            ],
            "source": [
                "with open(\"mnist_data/mnist_test.csv\") as mnist_file:\n",
                "    test_data = mnist_file.readlines()\n",
                "    score_card = []\n",
                "\n",
                "    for test in test_data:\n",
                "        test_input = test.split(\",\")\n",
                "        image_array = nn.scale_image(test_input)\n",
                "\n",
                "\n",
                "        predictions = nn.query(image_array)\n",
                "\n",
                "        predicted_number = str(np.argmax(predictions))\n",
                "        actual_number = (test_input[0])\n",
                "        # print(f\"Predicted : {predicted_number}, actual {actual_number}\")\n",
                "        score_card.append(predicted_number == actual_number)\n",
                "        percent = (sum(score_card) / len(score_card) )\n",
                "    \n",
                "    print(percent)\n",
                "\n",
                "    #pl.imshow(image_array.reshape(28,28), cmap='Greys', interpolation='none')"
            ]
        },
        {
            "cell_type": "markdown",
            "metadata": {},
            "source": [
                "Run the network backwards to see what the network sees a number as."
            ]
        },
        {
            "cell_type": "code",
            "execution_count": 5,
            "metadata": {},
            "outputs": [
                {
                    "name": "stdout",
                    "output_type": "stream",
                    "text": [
                        "[0.01 0.01 0.01 0.01 0.99 0.01 0.01 0.01 0.01 0.01]\n"
                    ]
                },
                {
                    "data": {
                        "text/plain": [
                            "<matplotlib.image.AxesImage at 0x7febe99679d0>"
                        ]
                    },
                    "execution_count": 5,
                    "metadata": {},
                    "output_type": "execute_result"
                },
                {
                    "data": {
                        "image/png": "[encoded data removed]",
                        "text/plain": [
                            "<Figure size 432x288 with 1 Axes>"
                        ]
                    },
                    "metadata": {
                        "needs_background": "light"
                    },
                    "output_type": "display_data"
                }
            ],
            "source": [
                "import matplotlib.pyplot as pl\n",
                "%matplotlib inline\n",
                "\n",
                "# label to test\n",
                "label = 4\n",
                "# create the output signals for this label\n",
                "targets = np.zeros(o_nodes) + 0.01\n",
                "# all_values[0] is the target label for this record\n",
                "targets[label] = 0.99\n",
                "print(targets)\n",
                "\n",
                "# get image data\n",
                "image_data = nn.backquery(targets)\n",
                "\n",
                "# plot image data\n",
                "pl.imshow(image_data.reshape(28,28), cmap='Greys', interpolation='None')\n"
            ]
        },
        {
            "cell_type": "code",
            "execution_count": 7,
            "metadata": {},
            "outputs": [
                {
                    "data": {
                        "image/png": "[encoded data removed]",
                        "text/plain": [
                            "<Figure size 432x288 with 1 Axes>"
                        ]
                    },
                    "metadata": {
                        "needs_background": "light"
                    },
                    "output_type": "display_data"
                }
            ],
            "source": [
                "# print out a number from an image array.\n",
                "import matplotlib.pyplot as pl\n",
                "%matplotlib inline\n",
                "\n",
                "with open(\"mnist_data/mnist_test.csv\") as mnist_file:\n",
                "    test_data = mnist_file.readlines()\n",
                "\n",
                "    image_data = test_data[2].split(\",\")\n",
                "    image_array = nn.scale_image(image_data)\n",
                "\n",
                "    pl.imshow(image_array.reshape(28,28), cmap='Greys', interpolation='None')"
            ]
        }
    ],
    "metadata": {
        "interpreter": {
            "hash": "c3b2f12e01ad50ddd651e8ce9c424571e432c2161a1664e425e233b87efaeb4c"
        },
        "kernelspec": {
            "display_name": "Python 3.8.8 64-bit ('base': conda)",
            "name": "python3"
        },
        "language_info": {
            "codemirror_mode": {
                "name": "ipython",
                "version": 3
            },
            "file_extension": ".py",
            "mimetype": "text/x-python",
            "name": "python",
            "nbconvert_exporter": "python",
            "pygments_lexer": "ipython3",
            "version": "3.9.7"
        },
        "orig_nbformat": 4
    },
    "nbformat": 4,
    "nbformat_minor": 2
}
