{
 "cells": [
  {
   "cell_type": "markdown",
   "source": [
    "**Big title**\r\n",
    "\r\n",
    "`var foo = 3 * 4`"
   ],
   "metadata": {}
  },
  {
   "cell_type": "code",
   "execution_count": 1,
   "source": [
    "foo = 3 * 4\r\n",
    "\r\n",
    "print (foo)"
   ],
   "outputs": [
    {
     "output_type": "stream",
     "name": "stdout",
     "text": [
      "12\n"
     ]
    }
   ],
   "metadata": {}
  }
 ],
 "metadata": {
  "kernelspec": {
   "name": "python3",
   "display_name": "Python 3.8.8 64-bit ('base': conda)"
  },
  "language_info": {
   "codemirror_mode": {
    "name": "ipython",
    "version": 3
   },
   "file_extension": ".py",
   "mimetype": "text/x-python",
   "name": "python",
   "nbconvert_exporter": "python",
   "pygments_lexer": "ipython3",
   "version": "3.8.8"
  },
  "interpreter": {
   "hash": "c3b2f12e01ad50ddd651e8ce9c424571e432c2161a1664e425e233b87efaeb4c"
  }
 },
 "nbformat": 4,
 "nbformat_minor": 5
}